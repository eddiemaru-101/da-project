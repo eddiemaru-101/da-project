{
 "cells": [
  {
   "cell_type": "markdown",
   "metadata": {},
   "source": [
    "# 따릉이 외국인 이용 현황 분석\n",
    "\n",
    "**분석 결과**: 서울시 공공자전거 데이터에서 **외국인의 연령별, 성별 정보는 제공되지 않습니다.**\n",
    "\n",
    "## 데이터 구조 분석\n",
    "- **신규가입자 정보**: 내국인만 포함 (연령/성별 정보 있음)  \n",
    "- **외국인 대여정보**: 외국인 포함 (연령/성별 정보 없음, 대여소별 건수만)\n",
    "\n",
    "## 확인된 사실\n",
    "아래 코드 실행 결과, 신규가입자 정보에는 `회원-내국인`만 있고 `회원-외국인`은 없음을 확인\n",
    "\n",
    "## 대안 분석 방안\n",
    "1. 외국인 대여 패턴 분석 (지역별, 월별)\n",
    "2. 인기 대여소 및 관광지 연관성 분석  \n",
    "3. 내국인 신규가입자의 연령별 성별 특성 분석 (참고용)"
   ]
  },
  {
   "cell_type": "code",
   "execution_count": 1,
   "metadata": {},
   "outputs": [],
   "source": [
    "import pandas as pd\n",
    "import numpy as np\n",
    "import matplotlib.pyplot as plt\n",
    "import seaborn as sns\n",
    "from datetime import datetime\n",
    "\n",
    "plt.rcParams['font.family'] = 'Malgun Gothic'\n",
    "plt.rcParams['axes.unicode_minus'] = False\n"
   ]
  },
  {
   "cell_type": "code",
   "execution_count": 7,
   "metadata": {},
   "outputs": [
    {
     "name": "stdout",
     "output_type": "stream",
     "text": [
      "utf-8 인코딩 실패: 'utf-8' codec can't decode byte 0xbf in position 2: invalid start byte\n",
      "성공적으로 cp949 인코딩으로 읽었습니다.\n",
      "\n",
      "외국인 신규가입자 데이터 컬럼명: ['2024-07-01', '회원-내국인', '10대', 'F', '77']\n",
      "데이터 형태: (2743, 5)\n",
      "\n",
      "첫 5행:\n",
      "   2024-07-01  회원-내국인  10대  F   77\n",
      "0  2024-07-01  회원-내국인  10대  M  151\n",
      "1  2024-07-01  회원-내국인  20대  F  262\n",
      "2  2024-07-01  회원-내국인  20대  M  329\n",
      "3  2024-07-01  회원-내국인  30대  F  118\n",
      "4  2024-07-01  회원-내국인  30대  M  176\n"
     ]
    }
   ],
   "source": [
    "# 외국인 신규가입자 데이터 불러오기 (월별)\n",
    "foreign_monthly_file = r\"../서울특별시 공공자전거 신규가입자 정보(일별)_24.7-12.csv\"\n",
    "\n",
    "# 인코딩 시도\n",
    "encodings = ['utf-8', 'cp949', 'euc-kr', 'utf-8-sig']\n",
    "foreign_df = None\n",
    "\n",
    "for encoding in encodings:\n",
    "    try:\n",
    "        foreign_df = pd.read_csv(foreign_monthly_file, encoding=encoding)\n",
    "        print(f\"성공적으로 {encoding} 인코딩으로 읽었습니다.\")\n",
    "        break\n",
    "    except Exception as e:\n",
    "        print(f\"{encoding} 인코딩 실패: {e}\")\n",
    "        continue\n",
    "\n",
    "if foreign_df is not None:\n",
    "    print(\"\\n외국인 신규가입자 데이터 컬럼명:\", foreign_df.columns.tolist())\n",
    "    print(\"데이터 형태:\", foreign_df.shape)\n",
    "    print(\"\\n첫 5행:\")\n",
    "    print(foreign_df.head())\n"
   ]
  },
  {
   "cell_type": "code",
   "execution_count": 17,
   "metadata": {},
   "outputs": [
    {
     "data": {
      "text/html": [
       "<div>\n",
       "<style scoped>\n",
       "    .dataframe tbody tr th:only-of-type {\n",
       "        vertical-align: middle;\n",
       "    }\n",
       "\n",
       "    .dataframe tbody tr th {\n",
       "        vertical-align: top;\n",
       "    }\n",
       "\n",
       "    .dataframe thead th {\n",
       "        text-align: right;\n",
       "    }\n",
       "</style>\n",
       "<table border=\"1\" class=\"dataframe\">\n",
       "  <thead>\n",
       "    <tr style=\"text-align: right;\">\n",
       "      <th></th>\n",
       "      <th>date</th>\n",
       "      <th>회원구분</th>\n",
       "      <th>연령대</th>\n",
       "      <th>성별</th>\n",
       "      <th>나이</th>\n",
       "    </tr>\n",
       "  </thead>\n",
       "  <tbody>\n",
       "  </tbody>\n",
       "</table>\n",
       "</div>"
      ],
      "text/plain": [
       "Empty DataFrame\n",
       "Columns: [date, 회원구분, 연령대, 성별, 나이]\n",
       "Index: []"
      ]
     },
     "execution_count": 17,
     "metadata": {},
     "output_type": "execute_result"
    }
   ],
   "source": [
    "#foreign_df[foreign_df['회원구분']==\"회원-외국인관광객\"]\n",
    "foreign_df.columns\n",
    "# 컬럼 이름 직접 지정\n",
    "foreign_df.columns = [\"date\", \"회원구분\", \"연령대\",\"성별\",\"나이\"]\n",
    "foreign_df\n",
    "foreign_df[foreign_df['회원구분'].str.contains(\"외국인\")]\n"
   ]
  },
  {
   "cell_type": "code",
   "execution_count": 3,
   "metadata": {},
   "outputs": [
    {
     "name": "stdout",
     "output_type": "stream",
     "text": [
      "정리된 컬럼명: ['기준월', '회원구분', '연령대', '성별', '가입자수']\n",
      "\n",
      "데이터 타입:\n",
      "기준월      int64\n",
      "회원구분    object\n",
      "연령대     object\n",
      "성별      object\n",
      "가입자수     int64\n",
      "dtype: object\n",
      "\n",
      "회원구분 종류: ['회원-내국인']\n",
      "연령대 종류: ['~10대' '20대' '30대' '40대' '50대' '60대' '70대이상' '기타']\n",
      "성별 종류: ['F' 'M']\n",
      "\n",
      "전처리 완료된 데이터:\n",
      "      기준월    회원구분    연령대 성별  가입자수\n",
      "0  202407  회원-내국인   ~10대  F  2622\n",
      "1  202407  회원-내국인    20대  F  4544\n",
      "2  202407  회원-내국인    30대  F  2253\n",
      "3  202407  회원-내국인    40대  F  1846\n",
      "4  202407  회원-내국인    50대  F  1083\n",
      "5  202407  회원-내국인    60대  F   326\n",
      "6  202407  회원-내국인  70대이상  F    69\n",
      "7  202407  회원-내국인     기타  F    19\n",
      "8  202407  회원-내국인   ~10대  M  4406\n",
      "9  202407  회원-내국인    20대  M  5328\n"
     ]
    }
   ],
   "source": [
    "# 컬럼명 정리 및 데이터 전처리\n",
    "foreign_df.columns = ['기준월', '회원구분', '연령대', '성별', '가입자수']\n",
    "\n",
    "print(\"정리된 컬럼명:\", foreign_df.columns.tolist())\n",
    "print(\"\\n데이터 타입:\")\n",
    "print(foreign_df.dtypes)\n",
    "\n",
    "# 외국인만 필터링 (혹시 내국인 데이터가 섞여있을 경우)\n",
    "print(\"\\n회원구분 종류:\", foreign_df['회원구분'].unique())\n",
    "print(\"연령대 종류:\", foreign_df['연령대'].unique()) \n",
    "print(\"성별 종류:\", foreign_df['성별'].unique())\n",
    "\n",
    "# 가입자수를 숫자형으로 변환\n",
    "foreign_df['가입자수'] = pd.to_numeric(foreign_df['가입자수'], errors='coerce').fillna(0)\n",
    "\n",
    "print(\"\\n전처리 완료된 데이터:\")\n",
    "print(foreign_df.head(10))\n"
   ]
  },
  {
   "cell_type": "code",
   "execution_count": 10,
   "metadata": {},
   "outputs": [
    {
     "ename": "KeyError",
     "evalue": "'회원구분'",
     "output_type": "error",
     "traceback": [
      "\u001b[31m---------------------------------------------------------------------------\u001b[39m",
      "\u001b[31mKeyError\u001b[39m                                  Traceback (most recent call last)",
      "\u001b[36mFile \u001b[39m\u001b[32mc:\\Users\\SBA\\Desktop\\데이터분석\\.venv\\Lib\\site-packages\\pandas\\core\\indexes\\base.py:3812\u001b[39m, in \u001b[36mIndex.get_loc\u001b[39m\u001b[34m(self, key)\u001b[39m\n\u001b[32m   3811\u001b[39m \u001b[38;5;28;01mtry\u001b[39;00m:\n\u001b[32m-> \u001b[39m\u001b[32m3812\u001b[39m     \u001b[38;5;28;01mreturn\u001b[39;00m \u001b[38;5;28;43mself\u001b[39;49m\u001b[43m.\u001b[49m\u001b[43m_engine\u001b[49m\u001b[43m.\u001b[49m\u001b[43mget_loc\u001b[49m\u001b[43m(\u001b[49m\u001b[43mcasted_key\u001b[49m\u001b[43m)\u001b[49m\n\u001b[32m   3813\u001b[39m \u001b[38;5;28;01mexcept\u001b[39;00m \u001b[38;5;167;01mKeyError\u001b[39;00m \u001b[38;5;28;01mas\u001b[39;00m err:\n",
      "\u001b[36mFile \u001b[39m\u001b[32mpandas/_libs/index.pyx:167\u001b[39m, in \u001b[36mpandas._libs.index.IndexEngine.get_loc\u001b[39m\u001b[34m()\u001b[39m\n",
      "\u001b[36mFile \u001b[39m\u001b[32mpandas/_libs/index.pyx:196\u001b[39m, in \u001b[36mpandas._libs.index.IndexEngine.get_loc\u001b[39m\u001b[34m()\u001b[39m\n",
      "\u001b[36mFile \u001b[39m\u001b[32mpandas/_libs/hashtable_class_helper.pxi:7088\u001b[39m, in \u001b[36mpandas._libs.hashtable.PyObjectHashTable.get_item\u001b[39m\u001b[34m()\u001b[39m\n",
      "\u001b[36mFile \u001b[39m\u001b[32mpandas/_libs/hashtable_class_helper.pxi:7096\u001b[39m, in \u001b[36mpandas._libs.hashtable.PyObjectHashTable.get_item\u001b[39m\u001b[34m()\u001b[39m\n",
      "\u001b[31mKeyError\u001b[39m: '회원구분'",
      "\nThe above exception was the direct cause of the following exception:\n",
      "\u001b[31mKeyError\u001b[39m                                  Traceback (most recent call last)",
      "\u001b[36mCell\u001b[39m\u001b[36m \u001b[39m\u001b[32mIn[10]\u001b[39m\u001b[32m, line 2\u001b[39m\n\u001b[32m      1\u001b[39m \u001b[38;5;66;03m# 외국인 데이터만 필터링 (회원-외국인)\u001b[39;00m\n\u001b[32m----> \u001b[39m\u001b[32m2\u001b[39m \u001b[38;5;28;01mif\u001b[39;00m \u001b[33m'\u001b[39m\u001b[33m회원-외국인관광객\u001b[39m\u001b[33m'\u001b[39m \u001b[38;5;129;01min\u001b[39;00m \u001b[43mforeign_df\u001b[49m\u001b[43m[\u001b[49m\u001b[33;43m'\u001b[39;49m\u001b[33;43m회원구분\u001b[39;49m\u001b[33;43m'\u001b[39;49m\u001b[43m]\u001b[49m.unique():\n\u001b[32m      3\u001b[39m     foreign_only = foreign_df[foreign_df[\u001b[33m'\u001b[39m\u001b[33m회원구분\u001b[39m\u001b[33m'\u001b[39m] == \u001b[33m'\u001b[39m\u001b[33m회원-외국인관광객\u001b[39m\u001b[33m'\u001b[39m].copy()\n\u001b[32m      4\u001b[39m \u001b[38;5;28;01melse\u001b[39;00m:\n\u001b[32m      5\u001b[39m     \u001b[38;5;66;03m# 내국인이 아닌 데이터를 외국인으로 간주\u001b[39;00m\n",
      "\u001b[36mFile \u001b[39m\u001b[32mc:\\Users\\SBA\\Desktop\\데이터분석\\.venv\\Lib\\site-packages\\pandas\\core\\frame.py:4107\u001b[39m, in \u001b[36mDataFrame.__getitem__\u001b[39m\u001b[34m(self, key)\u001b[39m\n\u001b[32m   4105\u001b[39m \u001b[38;5;28;01mif\u001b[39;00m \u001b[38;5;28mself\u001b[39m.columns.nlevels > \u001b[32m1\u001b[39m:\n\u001b[32m   4106\u001b[39m     \u001b[38;5;28;01mreturn\u001b[39;00m \u001b[38;5;28mself\u001b[39m._getitem_multilevel(key)\n\u001b[32m-> \u001b[39m\u001b[32m4107\u001b[39m indexer = \u001b[38;5;28;43mself\u001b[39;49m\u001b[43m.\u001b[49m\u001b[43mcolumns\u001b[49m\u001b[43m.\u001b[49m\u001b[43mget_loc\u001b[49m\u001b[43m(\u001b[49m\u001b[43mkey\u001b[49m\u001b[43m)\u001b[49m\n\u001b[32m   4108\u001b[39m \u001b[38;5;28;01mif\u001b[39;00m is_integer(indexer):\n\u001b[32m   4109\u001b[39m     indexer = [indexer]\n",
      "\u001b[36mFile \u001b[39m\u001b[32mc:\\Users\\SBA\\Desktop\\데이터분석\\.venv\\Lib\\site-packages\\pandas\\core\\indexes\\base.py:3819\u001b[39m, in \u001b[36mIndex.get_loc\u001b[39m\u001b[34m(self, key)\u001b[39m\n\u001b[32m   3814\u001b[39m     \u001b[38;5;28;01mif\u001b[39;00m \u001b[38;5;28misinstance\u001b[39m(casted_key, \u001b[38;5;28mslice\u001b[39m) \u001b[38;5;129;01mor\u001b[39;00m (\n\u001b[32m   3815\u001b[39m         \u001b[38;5;28misinstance\u001b[39m(casted_key, abc.Iterable)\n\u001b[32m   3816\u001b[39m         \u001b[38;5;129;01mand\u001b[39;00m \u001b[38;5;28many\u001b[39m(\u001b[38;5;28misinstance\u001b[39m(x, \u001b[38;5;28mslice\u001b[39m) \u001b[38;5;28;01mfor\u001b[39;00m x \u001b[38;5;129;01min\u001b[39;00m casted_key)\n\u001b[32m   3817\u001b[39m     ):\n\u001b[32m   3818\u001b[39m         \u001b[38;5;28;01mraise\u001b[39;00m InvalidIndexError(key)\n\u001b[32m-> \u001b[39m\u001b[32m3819\u001b[39m     \u001b[38;5;28;01mraise\u001b[39;00m \u001b[38;5;167;01mKeyError\u001b[39;00m(key) \u001b[38;5;28;01mfrom\u001b[39;00m\u001b[38;5;250m \u001b[39m\u001b[34;01merr\u001b[39;00m\n\u001b[32m   3820\u001b[39m \u001b[38;5;28;01mexcept\u001b[39;00m \u001b[38;5;167;01mTypeError\u001b[39;00m:\n\u001b[32m   3821\u001b[39m     \u001b[38;5;66;03m# If we have a listlike key, _check_indexing_error will raise\u001b[39;00m\n\u001b[32m   3822\u001b[39m     \u001b[38;5;66;03m#  InvalidIndexError. Otherwise we fall through and re-raise\u001b[39;00m\n\u001b[32m   3823\u001b[39m     \u001b[38;5;66;03m#  the TypeError.\u001b[39;00m\n\u001b[32m   3824\u001b[39m     \u001b[38;5;28mself\u001b[39m._check_indexing_error(key)\n",
      "\u001b[31mKeyError\u001b[39m: '회원구분'"
     ]
    }
   ],
   "source": [
    "# 외국인 데이터만 필터링 (회원-외국인)\n",
    "if '회원-외국인관광객' in foreign_df['회원구분'].unique():\n",
    "    foreign_only = foreign_df[foreign_df['회원구분'] == '회원-외국인관광객'].copy()\n",
    "else:\n",
    "    # 내국인이 아닌 데이터를 외국인으로 간주\n",
    "    foreign_only = foreign_df[foreign_df['회원구분'] != '회원-내국인'].copy()\n",
    "\n",
    "print(f\"외국인 데이터 총 {len(foreign_only)}건\")\n",
    "print(f\"전체 외국인 신규가입자 수: {foreign_only['가입자수'].sum():,}명\")\n",
    "print(\"\\n기간별 가입자 수:\")\n",
    "monthly_total = foreign_only.groupby('기준월')['가입자수'].sum()\n",
    "print(monthly_total)\n"
   ]
  },
  {
   "cell_type": "code",
   "execution_count": 5,
   "metadata": {},
   "outputs": [
    {
     "name": "stdout",
     "output_type": "stream",
     "text": [
      "연령대별 성별 가입자 수:\n",
      "Empty DataFrame\n",
      "Columns: []\n",
      "Index: []\n",
      "\n",
      "정렬된 연령대별 성별 가입자 수:\n",
      "Empty DataFrame\n",
      "Columns: []\n",
      "Index: [~10대, 20대, 30대, 40대, 50대, 60대, 70대이상, 기타]\n"
     ]
    }
   ],
   "source": [
    "# 연령대별 성별 분석\n",
    "age_gender_analysis = foreign_only.groupby(['연령대', '성별'])['가입자수'].sum().unstack(fill_value=0)\n",
    "\n",
    "print(\"연령대별 성별 가입자 수:\")\n",
    "print(age_gender_analysis)\n",
    "\n",
    "# 연령대 순서 정리\n",
    "age_order = ['~10대', '20대', '30대', '40대', '50대', '60대', '70대이상', '기타']\n",
    "age_gender_analysis = age_gender_analysis.reindex(age_order, fill_value=0)\n",
    "\n",
    "print(\"\\n정렬된 연령대별 성별 가입자 수:\")\n",
    "print(age_gender_analysis)\n"
   ]
  },
  {
   "cell_type": "code",
   "execution_count": 6,
   "metadata": {},
   "outputs": [
    {
     "ename": "TypeError",
     "evalue": "no numeric data to plot",
     "output_type": "error",
     "traceback": [
      "\u001b[31m---------------------------------------------------------------------------\u001b[39m",
      "\u001b[31mTypeError\u001b[39m                                 Traceback (most recent call last)",
      "\u001b[36mCell\u001b[39m\u001b[36m \u001b[39m\u001b[32mIn[6]\u001b[39m\u001b[32m, line 6\u001b[39m\n\u001b[32m      4\u001b[39m \u001b[38;5;66;03m# 1. 연령대별 성별 막대그래프\u001b[39;00m\n\u001b[32m      5\u001b[39m plt.subplot(\u001b[32m2\u001b[39m, \u001b[32m2\u001b[39m, \u001b[32m1\u001b[39m)\n\u001b[32m----> \u001b[39m\u001b[32m6\u001b[39m \u001b[43mage_gender_analysis\u001b[49m\u001b[43m.\u001b[49m\u001b[43mplot\u001b[49m\u001b[43m(\u001b[49m\u001b[43mkind\u001b[49m\u001b[43m=\u001b[49m\u001b[33;43m'\u001b[39;49m\u001b[33;43mbar\u001b[39;49m\u001b[33;43m'\u001b[39;49m\u001b[43m,\u001b[49m\u001b[43m \u001b[49m\u001b[43max\u001b[49m\u001b[43m=\u001b[49m\u001b[43mplt\u001b[49m\u001b[43m.\u001b[49m\u001b[43mgca\u001b[49m\u001b[43m(\u001b[49m\u001b[43m)\u001b[49m\u001b[43m,\u001b[49m\u001b[43m \u001b[49m\u001b[43mcolor\u001b[49m\u001b[43m=\u001b[49m\u001b[43m[\u001b[49m\u001b[33;43m'\u001b[39;49m\u001b[33;43mlightcoral\u001b[39;49m\u001b[33;43m'\u001b[39;49m\u001b[43m,\u001b[49m\u001b[43m \u001b[49m\u001b[33;43m'\u001b[39;49m\u001b[33;43mskyblue\u001b[39;49m\u001b[33;43m'\u001b[39;49m\u001b[43m]\u001b[49m\u001b[43m)\u001b[49m\n\u001b[32m      7\u001b[39m plt.title(\u001b[33m'\u001b[39m\u001b[33m연령대별 성별 외국인 신규가입자 수\u001b[39m\u001b[33m'\u001b[39m)\n\u001b[32m      8\u001b[39m plt.xlabel(\u001b[33m'\u001b[39m\u001b[33m연령대\u001b[39m\u001b[33m'\u001b[39m)\n",
      "\u001b[36mFile \u001b[39m\u001b[32mc:\\Users\\SBA\\Desktop\\데이터분석\\.venv\\Lib\\site-packages\\pandas\\plotting\\_core.py:1030\u001b[39m, in \u001b[36mPlotAccessor.__call__\u001b[39m\u001b[34m(self, *args, **kwargs)\u001b[39m\n\u001b[32m   1027\u001b[39m             label_name = label_kw \u001b[38;5;129;01mor\u001b[39;00m data.columns\n\u001b[32m   1028\u001b[39m             data.columns = label_name\n\u001b[32m-> \u001b[39m\u001b[32m1030\u001b[39m \u001b[38;5;28;01mreturn\u001b[39;00m \u001b[43mplot_backend\u001b[49m\u001b[43m.\u001b[49m\u001b[43mplot\u001b[49m\u001b[43m(\u001b[49m\u001b[43mdata\u001b[49m\u001b[43m,\u001b[49m\u001b[43m \u001b[49m\u001b[43mkind\u001b[49m\u001b[43m=\u001b[49m\u001b[43mkind\u001b[49m\u001b[43m,\u001b[49m\u001b[43m \u001b[49m\u001b[43m*\u001b[49m\u001b[43m*\u001b[49m\u001b[43mkwargs\u001b[49m\u001b[43m)\u001b[49m\n",
      "\u001b[36mFile \u001b[39m\u001b[32mc:\\Users\\SBA\\Desktop\\데이터분석\\.venv\\Lib\\site-packages\\pandas\\plotting\\_matplotlib\\__init__.py:71\u001b[39m, in \u001b[36mplot\u001b[39m\u001b[34m(data, kind, **kwargs)\u001b[39m\n\u001b[32m     69\u001b[39m         kwargs[\u001b[33m\"\u001b[39m\u001b[33max\u001b[39m\u001b[33m\"\u001b[39m] = \u001b[38;5;28mgetattr\u001b[39m(ax, \u001b[33m\"\u001b[39m\u001b[33mleft_ax\u001b[39m\u001b[33m\"\u001b[39m, ax)\n\u001b[32m     70\u001b[39m plot_obj = PLOT_CLASSES[kind](data, **kwargs)\n\u001b[32m---> \u001b[39m\u001b[32m71\u001b[39m \u001b[43mplot_obj\u001b[49m\u001b[43m.\u001b[49m\u001b[43mgenerate\u001b[49m\u001b[43m(\u001b[49m\u001b[43m)\u001b[49m\n\u001b[32m     72\u001b[39m plot_obj.draw()\n\u001b[32m     73\u001b[39m \u001b[38;5;28;01mreturn\u001b[39;00m plot_obj.result\n",
      "\u001b[36mFile \u001b[39m\u001b[32mc:\\Users\\SBA\\Desktop\\데이터분석\\.venv\\Lib\\site-packages\\pandas\\plotting\\_matplotlib\\core.py:499\u001b[39m, in \u001b[36mMPLPlot.generate\u001b[39m\u001b[34m(self)\u001b[39m\n\u001b[32m    497\u001b[39m \u001b[38;5;129m@final\u001b[39m\n\u001b[32m    498\u001b[39m \u001b[38;5;28;01mdef\u001b[39;00m\u001b[38;5;250m \u001b[39m\u001b[34mgenerate\u001b[39m(\u001b[38;5;28mself\u001b[39m) -> \u001b[38;5;28;01mNone\u001b[39;00m:\n\u001b[32m--> \u001b[39m\u001b[32m499\u001b[39m     \u001b[38;5;28;43mself\u001b[39;49m\u001b[43m.\u001b[49m\u001b[43m_compute_plot_data\u001b[49m\u001b[43m(\u001b[49m\u001b[43m)\u001b[49m\n\u001b[32m    500\u001b[39m     fig = \u001b[38;5;28mself\u001b[39m.fig\n\u001b[32m    501\u001b[39m     \u001b[38;5;28mself\u001b[39m._make_plot(fig)\n",
      "\u001b[36mFile \u001b[39m\u001b[32mc:\\Users\\SBA\\Desktop\\데이터분석\\.venv\\Lib\\site-packages\\pandas\\plotting\\_matplotlib\\core.py:698\u001b[39m, in \u001b[36mMPLPlot._compute_plot_data\u001b[39m\u001b[34m(self)\u001b[39m\n\u001b[32m    696\u001b[39m \u001b[38;5;66;03m# no non-numeric frames or series allowed\u001b[39;00m\n\u001b[32m    697\u001b[39m \u001b[38;5;28;01mif\u001b[39;00m is_empty:\n\u001b[32m--> \u001b[39m\u001b[32m698\u001b[39m     \u001b[38;5;28;01mraise\u001b[39;00m \u001b[38;5;167;01mTypeError\u001b[39;00m(\u001b[33m\"\u001b[39m\u001b[33mno numeric data to plot\u001b[39m\u001b[33m\"\u001b[39m)\n\u001b[32m    700\u001b[39m \u001b[38;5;28mself\u001b[39m.data = numeric_data.apply(\u001b[38;5;28mtype\u001b[39m(\u001b[38;5;28mself\u001b[39m)._convert_to_ndarray)\n",
      "\u001b[31mTypeError\u001b[39m: no numeric data to plot"
     ]
    },
    {
     "data": {
      "image/png": "[encoded data removed]",
      "text/plain": [
       "<Figure size 1500x1000 with 1 Axes>"
      ]
     },
     "metadata": {},
     "output_type": "display_data"
    }
   ],
   "source": [
    "# 연령대별 성별 시각화\n",
    "plt.figure(figsize=(15, 10))\n",
    "\n",
    "# 1. 연령대별 성별 막대그래프\n",
    "plt.subplot(2, 2, 1)\n",
    "age_gender_analysis.plot(kind='bar', ax=plt.gca(), color=['lightcoral', 'skyblue'])\n",
    "plt.title('연령대별 성별 외국인 신규가입자 수')\n",
    "plt.xlabel('연령대')\n",
    "plt.ylabel('가입자 수')\n",
    "plt.legend(['여성(F)', '남성(M)'])\n",
    "plt.xticks(rotation=45)\n",
    "\n",
    "# 2. 성별 총합 파이차트\n",
    "plt.subplot(2, 2, 2)\n",
    "gender_total = foreign_only.groupby('성별')['가입자수'].sum()\n",
    "plt.pie(gender_total.values, labels=['여성', '남성'], autopct='%1.1f%%', colors=['lightcoral', 'skyblue'])\n",
    "plt.title('전체 외국인 신규가입자 성별 비율')\n",
    "\n",
    "# 3. 연령대별 총합 파이차트\n",
    "plt.subplot(2, 2, 3)\n",
    "age_total = foreign_only.groupby('연령대')['가입자수'].sum().reindex(age_order, fill_value=0)\n",
    "plt.pie(age_total.values, labels=age_total.index, autopct='%1.1f%%', startangle=90)\n",
    "plt.title('전체 외국인 신규가입자 연령대 비율')\n",
    "\n",
    "# 4. 월별 추이\n",
    "plt.subplot(2, 2, 4)\n",
    "monthly_gender = foreign_only.groupby(['기준월', '성별'])['가입자수'].sum().unstack(fill_value=0)\n",
    "monthly_gender.plot(kind='line', marker='o', ax=plt.gca(), color=['lightcoral', 'skyblue'])\n",
    "plt.title('월별 성별 외국인 신규가입자 추이')\n",
    "plt.xlabel('월')\n",
    "plt.ylabel('가입자 수')\n",
    "plt.legend(['여성(F)', '남성(M)'])\n",
    "plt.xticks(rotation=45)\n",
    "\n",
    "plt.tight_layout()\n",
    "plt.show()\n"
   ]
  },
  {
   "cell_type": "code",
   "execution_count": null,
   "metadata": {},
   "outputs": [],
   "source": [
    "# 상세 분석 결과\n",
    "print(\"=\" * 60)\n",
    "print(\"따릉이 이용 외국인 관광객 특성 분석 결과\")\n",
    "print(\"=\" * 60)\n",
    "\n",
    "total_foreign = foreign_only['가입자수'].sum()\n",
    "print(f\"전체 외국인 신규가입자: {total_foreign:,}명\")\n",
    "\n",
    "# 성별 분석\n",
    "gender_stats = foreign_only.groupby('성별')['가입자수'].sum()\n",
    "print(\"\\n성별 분석:\")\n",
    "for gender, count in gender_stats.items():\n",
    "    percentage = (count / total_foreign) * 100\n",
    "    gender_name = '여성' if gender == 'F' else '남성'\n",
    "    print(f\"- {gender_name}: {count:,}명 ({percentage:.1f}%)\")\n",
    "\n",
    "# 연령대 분석\n",
    "age_stats = foreign_only.groupby('연령대')['가입자수'].sum().reindex(age_order, fill_value=0)\n",
    "print(\"\\n연령대 분석:\")\n",
    "for age, count in age_stats.items():\n",
    "    if count > 0:\n",
    "        percentage = (count / total_foreign) * 100\n",
    "        print(f\"- {age}: {count:,}명 ({percentage:.1f}%)\")\n",
    "\n",
    "# 주요 특징\n",
    "most_popular_age = age_stats.idxmax()\n",
    "most_popular_gender = gender_stats.idxmax()\n",
    "most_popular_gender_name = '여성' if most_popular_gender == 'F' else '남성'\n",
    "\n",
    "print(\"\\n주요 특징:\")\n",
    "print(f\"- 가장 많은 연령대: {most_popular_age} ({age_stats[most_popular_age]:,}명)\")\n",
    "print(f\"- 주요 성별: {most_popular_gender_name} ({gender_stats[most_popular_gender]:,}명)\")\n",
    "\n",
    "# 월별 트렌드\n",
    "monthly_trend = foreign_only.groupby('기준월')['가입자수'].sum()\n",
    "peak_month = monthly_trend.idxmax()\n",
    "low_month = monthly_trend.idxmin()\n",
    "print(f\"\\n월별 트렌드:\")\n",
    "print(f\"- 가장 활발한 월: {peak_month} ({monthly_trend[peak_month]:,}명)\")\n",
    "print(f\"- 가장 저조한 월: {low_month} ({monthly_trend[low_month]:,}명)\")\n"
   ]
  },
  {
   "cell_type": "markdown",
   "metadata": {},
   "source": [
    "# 외국인관광객 데이터 재분석\n",
    "\n",
    "일별 신규가입자 데이터에서 회원-외국인관광객 필터링"
   ]
  },
  {
   "cell_type": "code",
   "execution_count": null,
   "metadata": {},
   "outputs": [],
   "source": [
    "# 일별 신규가입자 데이터 로드\n",
    "file_path = r\"../서울특별시 공공자전거 신규가입자 정보(일별)_24.7-12.csv\"\n",
    "\n",
    "# 다양한 인코딩 시도\n",
    "encodings = ['utf-8', 'cp949', 'euc-kr', 'utf-8-sig']\n",
    "df = None\n",
    "\n",
    "for encoding in encodings:\n",
    "    try:\n",
    "        df = pd.read_csv(file_path, encoding=encoding)\n",
    "        print(f\"성공적으로 {encoding} 인코딩으로 읽었습니다.\")\n",
    "        break\n",
    "    except Exception as e:\n",
    "        print(f\"{encoding} 인코딩 실패: {e}\")\n",
    "        continue\n",
    "\n",
    "if df is not None:\n",
    "    print(f\"전체 데이터 수: {len(df)}건\")\n",
    "    print(\"컬럼명:\", df.columns.tolist())\n",
    "    \n",
    "    # 회원구분 종류 확인\n",
    "    print(f\"\\\\n회원구분 종류: {df.iloc[:, 1].unique()}\")\n",
    "    \n",
    "    # 각 회원구분별 데이터 수 확인\n",
    "    print(\"\\\\n각 회원구분별 데이터 수:\")\n",
    "    for member_type in df.iloc[:, 1].unique():\n",
    "        count = (df.iloc[:, 1] == member_type).sum()\n",
    "        print(f\"  '{member_type}': {count}건\")\n"
   ]
  },
  {
   "cell_type": "code",
   "execution_count": null,
   "metadata": {},
   "outputs": [],
   "source": [
    "# 회원-외국인관광객만 필터링\n",
    "foreign_tourists = df[df.iloc[:, 1] == '회원-외국인관광객'].copy()\n",
    "\n",
    "print(f\"외국인관광객 데이터 수: {len(foreign_tourists)}건\")\n",
    "\n",
    "if len(foreign_tourists) > 0:\n",
    "    # 컬럼명 정리\n",
    "    foreign_tourists.columns = ['날짜', '회원구분', '연령대', '성별', '가입자수']\n",
    "    \n",
    "    print(\"\\\\n외국인관광객 신규가입자 데이터 (상위 20개):\")\n",
    "    print(foreign_tourists.head(20))\n",
    "    \n",
    "    print(f\"\\\\n전체 외국인관광객 신규가입자: {foreign_tourists['가입자수'].sum():,}명\")\n",
    "else:\n",
    "    print(\"외국인관광객 데이터를 찾을 수 없습니다.\")\n"
   ]
  },
  {
   "cell_type": "code",
   "execution_count": null,
   "metadata": {},
   "outputs": [],
   "source": [
    "# 외국인관광객 연령대별 성별 분석\n",
    "if len(foreign_tourists) > 0:\n",
    "    # 연령대별 분석\n",
    "    print(\"연령대별 가입자 수:\")\n",
    "    age_stats = foreign_tourists.groupby('연령대')['가입자수'].sum().sort_values(ascending=False)\n",
    "    for age, count in age_stats.items():\n",
    "        percentage = (count / foreign_tourists['가입자수'].sum()) * 100\n",
    "        print(f\"  {age}: {count:,}명 ({percentage:.1f}%)\")\n",
    "    \n",
    "    # 성별 분석\n",
    "    print(\"\\\\n성별 가입자 수:\")\n",
    "    gender_stats = foreign_tourists.groupby('성별')['가입자수'].sum()\n",
    "    for gender, count in gender_stats.items():\n",
    "        gender_name = '여성' if gender == 'F' else '남성'\n",
    "        percentage = (count / foreign_tourists['가입자수'].sum()) * 100\n",
    "        print(f\"  {gender_name}: {count:,}명 ({percentage:.1f}%)\")\n",
    "    \n",
    "    # 월별 추이\n",
    "    foreign_tourists['월'] = pd.to_datetime(foreign_tourists['날짜']).dt.month\n",
    "    print(\"\\\\n월별 가입자 수:\")\n",
    "    monthly_stats = foreign_tourists.groupby('월')['가입자수'].sum().sort_index()\n",
    "    for month, count in monthly_stats.items():\n",
    "        percentage = (count / foreign_tourists['가입자수'].sum()) * 100\n",
    "        print(f\"  {month}월: {count:,}명 ({percentage:.1f}%)\")\n"
   ]
  },
  {
   "cell_type": "code",
   "execution_count": null,
   "metadata": {},
   "outputs": [],
   "source": [
    "# 외국인관광객 시각화\n",
    "if len(foreign_tourists) > 0:\n",
    "    plt.figure(figsize=(15, 10))\n",
    "    \n",
    "    # 1. 연령대별 성별 막대그래프\n",
    "    plt.subplot(2, 2, 1)\n",
    "    age_gender_pivot = foreign_tourists.groupby(['연령대', '성별'])['가입자수'].sum().unstack(fill_value=0)\n",
    "    age_gender_pivot.plot(kind='bar', ax=plt.gca(), color=['lightcoral', 'skyblue'])\n",
    "    plt.title('외국인관광객 연령대별 성별 신규가입자 수')\n",
    "    plt.xlabel('연령대')\n",
    "    plt.ylabel('가입자 수')\n",
    "    plt.legend(['여성(F)', '남성(M)'])\n",
    "    plt.xticks(rotation=45)\n",
    "    \n",
    "    # 2. 성별 파이차트\n",
    "    plt.subplot(2, 2, 2)\n",
    "    gender_total = foreign_tourists.groupby('성별')['가입자수'].sum()\n",
    "    labels = ['여성' if x == 'F' else '남성' for x in gender_total.index]\n",
    "    plt.pie(gender_total.values, labels=labels, autopct='%1.1f%%', colors=['lightcoral', 'skyblue'])\n",
    "    plt.title('외국인관광객 성별 비율')\n",
    "    \n",
    "    # 3. 연령대별 파이차트\n",
    "    plt.subplot(2, 2, 3)\n",
    "    age_total = foreign_tourists.groupby('연령대')['가입자수'].sum().sort_values(ascending=False)\n",
    "    plt.pie(age_total.values, labels=age_total.index, autopct='%1.1f%%', startangle=90)\n",
    "    plt.title('외국인관광객 연령대 비율')\n",
    "    \n",
    "    # 4. 월별 추이\n",
    "    plt.subplot(2, 2, 4)\n",
    "    monthly_gender = foreign_tourists.groupby(['월', '성별'])['가입자수'].sum().unstack(fill_value=0)\n",
    "    monthly_gender.plot(kind='line', marker='o', ax=plt.gca(), color=['lightcoral', 'skyblue'])\n",
    "    plt.title('월별 외국인관광객 신규가입자 추이')\n",
    "    plt.xlabel('월')\n",
    "    plt.ylabel('가입자 수')\n",
    "    plt.legend(['여성(F)', '남성(M)'])\n",
    "    plt.xticks(monthly_gender.index)\n",
    "    \n",
    "    plt.tight_layout()\n",
    "    plt.show()\"\n"
   ]
  }
 ],
 "metadata": {
  "kernelspec": {
   "display_name": ".venv (3.13.7)",
   "language": "python",
   "name": "python3"
  },
  "language_info": {
   "codemirror_mode": {
    "name": "ipython",
    "version": 3
   },
   "file_extension": ".py",
   "mimetype": "text/x-python",
   "name": "python",
   "nbconvert_exporter": "python",
   "pygments_lexer": "ipython3",
   "version": "3.13.7"
  }
 },
 "nbformat": 4,
 "nbformat_minor": 4
}
